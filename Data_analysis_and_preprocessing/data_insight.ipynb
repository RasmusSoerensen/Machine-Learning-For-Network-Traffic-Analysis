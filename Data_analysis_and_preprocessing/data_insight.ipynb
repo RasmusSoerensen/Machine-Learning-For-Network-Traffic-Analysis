{
 "cells": [
  {
   "cell_type": "code",
   "execution_count": 1,
   "metadata": {},
   "outputs": [],
   "source": [
    "import pandas as pd\n",
    "import numpy as np\n",
    "import matplotlib.pyplot as plt\n",
    "import seaborn as sns\n",
    "import gc\n",
    "from sklearn.preprocessing import StandardScaler\n",
    "from sklearn.preprocessing import OneHotEncoder\n",
    "from sklearn.preprocessing import LabelEncoder"
   ]
  },
  {
   "cell_type": "code",
   "execution_count": 2,
   "metadata": {},
   "outputs": [],
   "source": [
    "all_file_path = ['C:/Users/Rasmu/OneDrive/DTU/Kunstig intelligens og Data/7. semestre/Bachelor/Machine-Learning-For-Network-Traffic-Analysis/Data/BigDataset/IoTScenarios/CTU-Honeypot-Capture-4-1/bro/conn.log.labeled',\n",
    "                 'C:/Users/Rasmu/OneDrive/DTU/Kunstig intelligens og Data/7. semestre/Bachelor/Machine-Learning-For-Network-Traffic-Analysis/Data/BigDataset/IoTScenarios/CTU-Honeypot-Capture-5-1/bro/conn.log.labeled',\n",
    "                 'C:/Users/Rasmu/OneDrive/DTU/Kunstig intelligens og Data/7. semestre/Bachelor/Machine-Learning-For-Network-Traffic-Analysis/Data/BigDataset/IoTScenarios/CTU-Honeypot-Capture-7-1/bro/conn.log.labeled',\n",
    "                 'C:/Users/Rasmu/OneDrive/DTU/Kunstig intelligens og Data/7. semestre/Bachelor/Machine-Learning-For-Network-Traffic-Analysis/Data/BigDataset/IoTScenarios/CTU-IoT-Malware-Capture-1-1/bro/conn.log.labeled',\n",
    "                 'C:/Users/Rasmu/OneDrive/DTU/Kunstig intelligens og Data/7. semestre/Bachelor/Machine-Learning-For-Network-Traffic-Analysis/Data/BigDataset/IoTScenarios/CTU-IoT-Malware-Capture-3-1/bro/conn.log.labeled',\n",
    "                 'C:/Users/Rasmu/OneDrive/DTU/Kunstig intelligens og Data/7. semestre/Bachelor/Machine-Learning-For-Network-Traffic-Analysis/Data/BigDataset/IoTScenarios/CTU-IoT-Malware-Capture-17-1/bro/conn.log.labeled',\n",
    "                 'C:/Users/Rasmu/OneDrive/DTU/Kunstig intelligens og Data/7. semestre/Bachelor/Machine-Learning-For-Network-Traffic-Analysis/Data/BigDataset/IoTScenarios/CTU-IoT-Malware-Capture-20-1/bro/conn.log.labeled',\n",
    "                 'C:/Users/Rasmu/OneDrive/DTU/Kunstig intelligens og Data/7. semestre/Bachelor/Machine-Learning-For-Network-Traffic-Analysis/Data/BigDataset/IoTScenarios/CTU-IoT-Malware-Capture-21-1/bro/conn.log.labeled',\n",
    "                 'C:/Users/Rasmu/OneDrive/DTU/Kunstig intelligens og Data/7. semestre/Bachelor/Machine-Learning-For-Network-Traffic-Analysis/Data/BigDataset/IoTScenarios/CTU-IoT-Malware-Capture-3-1/bro/conn.log.labeled',\n",
    "                 'C:/Users/Rasmu/OneDrive/DTU/Kunstig intelligens og Data/7. semestre/Bachelor/Machine-Learning-For-Network-Traffic-Analysis/Data/BigDataset/IoTScenarios/CTU-IoT-Malware-Capture-33-1/bro/conn.log.labeled',\n",
    "                 'C:/Users/Rasmu/OneDrive/DTU/Kunstig intelligens og Data/7. semestre/Bachelor/Machine-Learning-For-Network-Traffic-Analysis/Data/BigDataset/IoTScenarios/CTU-IoT-Malware-Capture-34-1/bro/conn.log.labeled',\n",
    "                 'C:/Users/Rasmu/OneDrive/DTU/Kunstig intelligens og Data/7. semestre/Bachelor/Machine-Learning-For-Network-Traffic-Analysis/Data/BigDataset/IoTScenarios/CTU-IoT-Malware-Capture-35-1/bro/conn.log.labeled',\n",
    "                 'C:/Users/Rasmu/OneDrive/DTU/Kunstig intelligens og Data/7. semestre/Bachelor/Machine-Learning-For-Network-Traffic-Analysis/Data/BigDataset/IoTScenarios/CTU-IoT-Malware-Capture-36-1/bro/conn.log.labeled',\n",
    "                 'C:/Users/Rasmu/OneDrive/DTU/Kunstig intelligens og Data/7. semestre/Bachelor/Machine-Learning-For-Network-Traffic-Analysis/Data/BigDataset/IoTScenarios/CTU-IoT-Malware-Capture-39-1/bro/conn.log.labeled',\n",
    "                 'C:/Users/Rasmu/OneDrive/DTU/Kunstig intelligens og Data/7. semestre/Bachelor/Machine-Learning-For-Network-Traffic-Analysis/Data/BigDataset/IoTScenarios/CTU-IoT-Malware-Capture-42-1/bro/conn.log.labeled',\n",
    "                 'C:/Users/Rasmu/OneDrive/DTU/Kunstig intelligens og Data/7. semestre/Bachelor/Machine-Learning-For-Network-Traffic-Analysis/Data/BigDataset/IoTScenarios/CTU-IoT-Malware-Capture-43-1/bro/conn.log.labeled',\n",
    "                 'C:/Users/Rasmu/OneDrive/DTU/Kunstig intelligens og Data/7. semestre/Bachelor/Machine-Learning-For-Network-Traffic-Analysis/Data/BigDataset/IoTScenarios/CTU-IoT-Malware-Capture-44-1/bro/conn.log.labeled',\n",
    "                 'C:/Users/Rasmu/OneDrive/DTU/Kunstig intelligens og Data/7. semestre/Bachelor/Machine-Learning-For-Network-Traffic-Analysis/Data/BigDataset/IoTScenarios/CTU-IoT-Malware-Capture-48-1/bro/conn.log.labeled',\n",
    "                 'C:/Users/Rasmu/OneDrive/DTU/Kunstig intelligens og Data/7. semestre/Bachelor/Machine-Learning-For-Network-Traffic-Analysis/Data/BigDataset/IoTScenarios/CTU-IoT-Malware-Capture-49-1/bro/conn.log.labeled',\n",
    "                 'C:/Users/Rasmu/OneDrive/DTU/Kunstig intelligens og Data/7. semestre/Bachelor/Machine-Learning-For-Network-Traffic-Analysis/Data/BigDataset/IoTScenarios/CTU-IoT-Malware-Capture-52-1/bro/conn.log.labeled',\n",
    "                 'C:/Users/Rasmu/OneDrive/DTU/Kunstig intelligens og Data/7. semestre/Bachelor/Machine-Learning-For-Network-Traffic-Analysis/Data/BigDataset/IoTScenarios/CTU-IoT-Malware-Capture-60-1/bro/conn.log.labeled',\n",
    "                 'C:/Users/Rasmu/OneDrive/DTU/Kunstig intelligens og Data/7. semestre/Bachelor/Machine-Learning-For-Network-Traffic-Analysis/Data/BigDataset/IoTScenarios/CTU-IoT-Malware-Capture-7-1/bro/conn.log.labeled',\n",
    "                 'C:/Users/Rasmu/OneDrive/DTU/Kunstig intelligens og Data/7. semestre/Bachelor/Machine-Learning-For-Network-Traffic-Analysis/Data/BigDataset/IoTScenarios/CTU-IoT-Malware-Capture-8-1/bro/conn.log.labeled',\n",
    "                 'C:/Users/Rasmu/OneDrive/DTU/Kunstig intelligens og Data/7. semestre/Bachelor/Machine-Learning-For-Network-Traffic-Analysis/Data/BigDataset/IoTScenarios/CTU-IoT-Malware-Capture-9-1/bro/conn.log.labeled']"
   ]
  },
  {
   "cell_type": "code",
   "execution_count": null,
   "metadata": {},
   "outputs": [],
   "source": [
    "#load data and concatenate\n",
    "\n",
    "first = True\n",
    "output_file = 'C:/Users/Rasmu/OneDrive/DTU/Kunstig intelligens og Data/7. semestre/Bachelor/Machine-Learning-For-Network-Traffic-Analysis/Data/combined_data/whole_dataset.csv'\n",
    "for i in all_file_path:\n",
    "    for chunk in pd.read_csv(i, sep='\\t', skiprows=8, header=None, chunksize=30000000):\n",
    "        chunk.columns = [\"ts\", \"uid\", \"id.orig_h\", \"id.orig_p\", \"id.resp_h\", \"id.resp_p\", \"proto\", \"service\", \"duration\", \n",
    "                         \"orig_bytes\", \"resp_bytes\", \"conn_state\", \"local_orig\", \"local_resp\", \"missed_bytes\", \"history\", \n",
    "                         \"orig_pkts\", \"orig_ip_bytes\", \"resp_pkts\", \"resp_ip_bytes\", \"tunnel_parents_label_detailed-label\"]\n",
    "        split_cols = chunk['tunnel_parents_label_detailed-label'].str.split(expand=True, n=2)\n",
    "        chunk[['tunnel_parents', 'label', 'detailed_label']] = split_cols\n",
    "        chunk.drop(['tunnel_parents_label_detailed-label'], axis=1, inplace=True)\n",
    "        chunk['label'] = chunk['label'].replace({'Benign': 0, 'benign': 0, 'malicious': 1, 'Malicious': 1})\n",
    "        chunk.drop_duplicates(inplace=True)\n",
    "        chunk.replace({'-': np.nan, '(empty)': np.nan}, inplace=True)\n",
    "        detailed_label_mapping = {\n",
    "            np.nan: 0, 'C&C': 1, 'C&C-Mirai': 1, 'DDoS': 2,\n",
    "            'PartOfAHorizontalPortScan': 3, 'PartOfAHorizontalPortScan-Attack': 3,\n",
    "            'C&C-PartOfAHorizontalPortScan': 3, 'C&C-FileDownload': 4,\n",
    "            'FileDownload': 4, 'C&C-HeartBeat-FileDownload': 4,\n",
    "            'Okiru': 5, 'Okiru-Attack': 5, 'C&C-Torii': 6,\n",
    "            'C&C-HeartBeat': 7, 'C&C-HeartBeat-Attack': 7, 'Attack': 8\n",
    "        }\n",
    "        chunk['detailed_label'] = chunk['detailed_label'].replace(detailed_label_mapping)\n",
    "\n",
    "        if first:\n",
    "            chunk.to_csv(output_file, index=False)\n",
    "            first = False\n",
    "        else:\n",
    "            chunk.to_csv(output_file, mode='a', header=False, index=False)\n",
    "\n",
    "        del chunk\n",
    "print('Data loaded and saved to:', output_file)"
   ]
  },
  {
   "cell_type": "code",
   "execution_count": null,
   "metadata": {},
   "outputs": [],
   "source": [
    "#These steps require a lot of memory, if you want to se aspects of the initial data.\n",
    "data = pd.read_csv(output_file)\n",
    "\n",
    "#Plot a bar chart of the distribution of the labels\n",
    "dist_lab = data['label'].value_counts()\n",
    "dist_lab = dist_lab.rename({1: 'Malicius', 0: 'Benign'})\n",
    "dist_lab.plot(kind='bar', color=['red', 'blue'])"
   ]
  },
  {
   "cell_type": "code",
   "execution_count": null,
   "metadata": {},
   "outputs": [],
   "source": [
    "#Find the procentage of missing values in each column\n",
    "def calculate_nan_percentage(df, label_column='label'):\n",
    "    if label_column not in df.columns:\n",
    "        raise ValueError(f\"The label column '{label_column}' is not in the dataframe.\")\n",
    "    grouped = df.groupby(label_column)\n",
    "    nan_percentage = {}\n",
    "    for label, group in grouped:\n",
    "        nan_percentage[label] = group.isna().mean() * 100\n",
    "    nan_percentage_df = pd.DataFrame(nan_percentage).rename_axis('Feature').reset_index()\n",
    "    nan_percentage_df.columns = ['Feature'] + [f'Label_{int(label)}_NaN_Percentage' for label in nan_percentage_df.columns[1:]]\n",
    "    return nan_percentage_df\n",
    "\n",
    "nan_percentage_df = calculate_nan_percentage(data)\n",
    "nan_percentage_df"
   ]
  },
  {
   "cell_type": "code",
   "execution_count": null,
   "metadata": {},
   "outputs": [],
   "source": [
    "#Number of unique values in each feature\n",
    "def calculate_unique_values(df, label_column='label'):\n",
    "    if label_column not in df.columns:\n",
    "        raise ValueError(f\"The label column '{label_column}' is not in the dataframe.\")\n",
    "    grouped = df.groupby(label_column)\n",
    "    unique_values = {}\n",
    "    for label, group in grouped:\n",
    "        unique_values[label] = group.nunique()\n",
    "    unique_values_df = pd.DataFrame(unique_values).rename_axis('Feature').reset_index()\n",
    "    unique_values_df.columns = ['Feature'] + [f'Label_{int(label)}_Unique' for label in unique_values_df.columns[1:]]\n",
    "    return unique_values_df\n",
    "\n",
    "\n",
    "unique_values_df = calculate_unique_values(data)\n",
    "unique_values_df"
   ]
  }
 ],
 "metadata": {
  "kernelspec": {
   "display_name": "network_traffic",
   "language": "python",
   "name": "python3"
  },
  "language_info": {
   "codemirror_mode": {
    "name": "ipython",
    "version": 3
   },
   "file_extension": ".py",
   "mimetype": "text/x-python",
   "name": "python",
   "nbconvert_exporter": "python",
   "pygments_lexer": "ipython3",
   "version": "3.9.19"
  }
 },
 "nbformat": 4,
 "nbformat_minor": 2
}
